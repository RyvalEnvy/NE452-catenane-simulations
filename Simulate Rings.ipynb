{
 "cells": [
  {
   "cell_type": "code",
   "execution_count": 3,
   "id": "0452d3d9",
   "metadata": {},
   "outputs": [
    {
     "name": "stdout",
     "output_type": "stream",
     "text": [
      "Collecting package metadata (current_repodata.json): ...working... done\n",
      "Solving environment: ...working... failed with initial frozen solve. Retrying with flexible solve.\n",
      "Solving environment: ...working... failed with repodata from current_repodata.json, will retry with next repodata source.\n",
      "Collecting package metadata (repodata.json): ...working... done\n",
      "Solving environment: ...working... done\n",
      "\n",
      "## Package Plan ##\n",
      "\n",
      "  environment location: C:\\Users\\SHEN\\anaconda3\\envs\\syde\n",
      "\n",
      "  added / updated specs:\n",
      "    - openmm\n",
      "\n",
      "\n",
      "The following packages will be downloaded:\n",
      "\n",
      "    package                    |            build\n",
      "    ---------------------------|-----------------\n",
      "    fftw-3.3.10                |nompi_h52fa85e_103         1.0 MB  conda-forge\n",
      "    khronos-opencl-icd-loader-2022.05.18|       h8d14728_0          80 KB  conda-forge\n",
      "    openmm-7.6.0               |   py39h6dc0912_0        10.5 MB  conda-forge\n",
      "    openssl-1.1.1q             |       h8ffe710_0         5.8 MB  conda-forge\n",
      "    python_abi-3.9             |           2_cp39           4 KB  conda-forge\n",
      "    ------------------------------------------------------------\n",
      "                                           Total:        17.3 MB\n",
      "\n",
      "The following NEW packages will be INSTALLED:\n",
      "\n",
      "  fftw               conda-forge/win-64::fftw-3.3.10-nompi_h52fa85e_103 None\n",
      "  khronos-opencl-ic~ conda-forge/win-64::khronos-opencl-icd-loader-2022.05.18-h8d14728_0 None\n",
      "  openmm             conda-forge/win-64::openmm-7.6.0-py39h6dc0912_0 None\n",
      "  python_abi         conda-forge/win-64::python_abi-3.9-2_cp39 None\n",
      "\n",
      "The following packages will be UPDATED:\n",
      "\n",
      "  ca-certificates    pkgs/main::ca-certificates-2022.10.11~ --> conda-forge::ca-certificates-2022.12.7-h5b45459_0 None\n",
      "  certifi            pkgs/main/win-64::certifi-2022.9.24-p~ --> conda-forge/noarch::certifi-2022.12.7-pyhd8ed1ab_0 None\n",
      "\n",
      "The following packages will be SUPERSEDED by a higher-priority channel:\n",
      "\n",
      "  openssl              pkgs/main::openssl-1.1.1s-h2bbff1b_0 --> conda-forge::openssl-1.1.1q-h8ffe710_0 None\n",
      "\n",
      "\n",
      "\n",
      "Downloading and Extracting Packages\n",
      "\n",
      "openmm-7.6.0         | 10.5 MB   |            |   0% \n",
      "openmm-7.6.0         | 10.5 MB   |            |   0% \n",
      "openmm-7.6.0         | 10.5 MB   | 7          |   8% \n",
      "openmm-7.6.0         | 10.5 MB   | ##1        |  22% \n",
      "openmm-7.6.0         | 10.5 MB   | ###6       |  36% \n",
      "openmm-7.6.0         | 10.5 MB   | ####9      |  50% \n",
      "openmm-7.6.0         | 10.5 MB   | ######8    |  68% \n",
      "openmm-7.6.0         | 10.5 MB   | ########4  |  85% \n",
      "openmm-7.6.0         | 10.5 MB   | ########## | 100% \n",
      "openmm-7.6.0         | 10.5 MB   | ########## | 100% \n",
      "\n",
      "python_abi-3.9       | 4 KB      |            |   0% \n",
      "python_abi-3.9       | 4 KB      | ########## | 100% \n",
      "\n",
      "fftw-3.3.10          | 1.0 MB    |            |   0% \n",
      "fftw-3.3.10          | 1.0 MB    | 6          |   6% \n",
      "fftw-3.3.10          | 1.0 MB    | ########## | 100% \n",
      "fftw-3.3.10          | 1.0 MB    | ########## | 100% \n",
      "\n",
      "khronos-opencl-icd-l | 80 KB     |            |   0% \n",
      "khronos-opencl-icd-l | 80 KB     | ########## | 100% \n",
      "khronos-opencl-icd-l | 80 KB     | ########## | 100% \n",
      "\n",
      "openssl-1.1.1q       | 5.8 MB    |            |   0% \n",
      "openssl-1.1.1q       | 5.8 MB    | #2         |  13% \n",
      "openssl-1.1.1q       | 5.8 MB    | ####8      |  49% \n",
      "openssl-1.1.1q       | 5.8 MB    | #######5   |  75% \n",
      "openssl-1.1.1q       | 5.8 MB    | ########## | 100% \n",
      "Preparing transaction: ...working... done\n",
      "Verifying transaction: ...working... done\n",
      "Executing transaction: ...working... done\n",
      "Retrieving notices: ...working... done\n"
     ]
    },
    {
     "name": "stderr",
     "output_type": "stream",
     "text": [
      "\n",
      "\n",
      "==> WARNING: A newer version of conda exists. <==\n",
      "  current version: 22.9.0\n",
      "  latest version: 23.3.1\n",
      "\n",
      "Please update conda by running\n",
      "\n",
      "    $ conda update -n base -c defaults conda\n",
      "\n",
      "\n"
     ]
    }
   ],
   "source": [
    "import sys\n",
    "!conda install --yes --prefix {sys.prefix} -c conda-forge openmm"
   ]
  },
  {
   "cell_type": "code",
   "execution_count": 4,
   "id": "0be6b591",
   "metadata": {},
   "outputs": [],
   "source": [
    "import numpy as np\n",
    "import math\n",
    "from matplotlib import pyplot as plt\n",
    "from openmm import app\n",
    "import openmm as mm\n",
    "from openmm import unit\n",
    "import sys\n",
    "import os"
   ]
  },
  {
   "cell_type": "code",
   "execution_count": 5,
   "id": "ba59625e",
   "metadata": {},
   "outputs": [],
   "source": [
    "def reload(T = 50, gamma = 1/50, length = 10, dt = 0.1, skipSteps = 1, \n",
    "           f_pdb = \"pdb\", f_ff = \"forcefield\", srSize = 10):\n",
    "    fname = \"{}fs_{}ps_{}K_{}ss.xyz\".format(dt, length, T, skipSteps)\n",
    "    totSteps = int(length*1000/(skipSteps * dt))\n",
    "    print(\"totSteps\", totSteps)\n",
    "\n",
    "    a = np.loadtxt(fname)\n",
    "    nParticles = a.shape[-1]//3\n",
    "    a = a.reshape(totSteps+1, 3, nParticles)\n",
    "    print(a.shape)\n",
    "\n",
    "    return a\n"
   ]
  },
  {
   "cell_type": "code",
   "execution_count": 6,
   "id": "69dd49a2",
   "metadata": {},
   "outputs": [],
   "source": [
    "def euclidean_distance(r1,r2):\n",
    "    d = np.sqrt(\n",
    "        np.sum(\n",
    "            np.square(r1-r2)\n",
    "        )\n",
    "    )\n",
    "    return d\n",
    "\n",
    "def find_closest_monomer(p_small,p_large):\n",
    "    n_small = np.shape(p_small)[0]\n",
    "    n_large = np.shape(p_large)[0]\n",
    "\n",
    "    distance_matrix = np.zeros((n_small,n_large))\n",
    "\n",
    "    # Calculate the distance from each unit of the smaller ring to each unit on \n",
    "    # the longer ring\n",
    "    for i in range(n_small):\n",
    "        for j in range(n_large):\n",
    "            r1 = p_small[i,:]\n",
    "            r2 = p_large[j,:]\n",
    "            distance_matrix[i,j]= euclidean_distance(r1,r2)\n",
    "\n",
    "    #Return the distance \n",
    "    closest_monomer_to_each_bead = np.argmin(distance_matrix,axis=1)\n",
    "    return closest_monomer_to_each_bead\n",
    "\n",
    "def calculate_circle_center_of_mass(ring):\n",
    "    return np.mean(ring,axis=0)\n",
    "\n",
    "def calculate_vector_magnitude(v):\n",
    "    return np.sqrt(np.sum(np.square(v)))\n",
    "\n",
    "def calculate_angular_displacement(position_time_tensor):\n",
    "\n",
    "\n",
    "    small_ring_carbon_indices=(0,10)\n",
    "    large_ring_carbon_indices=(10,210)\n",
    "    \n",
    "    #Extract the small ring positions\n",
    "    p_small = position_time_tensor[:,:,\n",
    "                    small_ring_carbon_indices[0]:small_ring_carbon_indices[1]]\n",
    "        \n",
    "    #Extract the large ring positions\n",
    "    p_large = position_time_tensor[:,:,\n",
    "                    large_ring_carbon_indices[0]:large_ring_carbon_indices[1]]\n",
    "    \n",
    "    # Find the closest monomer to each bead for the initial position, \n",
    "    # transposing just to give the matrix the right shape \n",
    "    initial_closest_monomers_to_each_bead = find_closest_monomer(\n",
    "        p_small[0,:,:].T,\n",
    "        p_large[0,:,:].T\n",
    "    )\n",
    "    \n",
    "    initial_index = int(np.mean(initial_closest_monomers_to_each_bead))\n",
    "    \n",
    "    nt = np.shape(position_time_tensor)[0]\n",
    "    angular_displacement = np.zeros(nt)    \n",
    "\n",
    "    # find the initial radius of the beads\n",
    "    theta = 2*np.pi/p_large.shape[-1]\n",
    "    \n",
    "    for i in range(nt):\n",
    "        # find the angle within the plane of r_s_CoM and r_l_CoM for each node\n",
    "        small_center = calculate_circle_center_of_mass(p_small[i,:,:].T)\n",
    "        #print(small_center)\n",
    "        # find the current monomer index\n",
    "        sm_mono_index = find_closest_monomer(np.array([small_center]), \n",
    "                                             p_large[i, :, :].T)\n",
    "        \n",
    "        # difference in index between init and current \n",
    "        delta = sm_mono_index - initial_index\n",
    "\n",
    "        # angular distance according to the initial monomer geometry\n",
    "        ang_disp = delta * theta\n",
    "\n",
    "        angular_displacement[i] = ang_disp\n",
    "        \n",
    "    return angular_displacement"
   ]
  },
  {
   "cell_type": "code",
   "execution_count": 24,
   "id": "d32f3d16",
   "metadata": {},
   "outputs": [],
   "source": [
    "def runSim(T = 50, gamma = 1/50, length = 10, dt = 0.1, skipSteps = 1, f_pdb = \"pdb\", \n",
    "           f_ff = \"forcefield\", srSize = 10):\n",
    "    \"\"\"\n",
    "    Function to run the openMM simulation (NVT) with given params and \n",
    "    pdb+forcefields\n",
    "\n",
    "    Saves a xyz file of a compressed 3d array. See the function reload() to get \n",
    "    an idea of how to load and manipulate the output array (and format the file \n",
    "    name). The final array should have dims defined by \n",
    "    [n_timesteps, 3 (xyz), n_particles]\n",
    "\n",
    "    parameters:\n",
    "    T: int\n",
    "        Temperature\n",
    "    gamma: float\n",
    "        Friction parameters for Langevin\n",
    "    len: float\n",
    "        Total length of the simulation in ps\n",
    "    dt: float\n",
    "        Size of the timesteps in ps\n",
    "    f_pdb: str\n",
    "        Name of the pdb file (excluding the file extension, which should \n",
    "        simply be .pdb)\n",
    "    f_ff: str\n",
    "        Name of the forcefield file (excluding the file extension, which should \n",
    "        simply be .xml)\n",
    "    srSize: int\n",
    "        Number of monomer units in the small ring\n",
    "    \"\"\"\n",
    "    # set up strings\n",
    "    # THE FOLLOWING FILE NAMES ARE PLACEHOLDERS: CHANGE WHEN POSSIBLE\n",
    "    path = os.getcwd()\n",
    "    pdbPath = os.path.join(path, \"pdb_files/{}.pdb\".format(f_pdb))\n",
    "    forcefieldPath = os.path.join(path, \"pdb_files/{}.xml\".format(f_ff))\n",
    "    \n",
    "    # output a little description so i dont forget what i ran 5 min ago\n",
    "    reminder =\"Now Running: dt = {}fs; length = {}ps; T = {}K; {} steps skipped\"\n",
    "    print(reminder.format(dt, length, T, skipSteps))\n",
    "\n",
    "    # set up params\n",
    "    kB = 1.38e-23\n",
    "    beta = 1./(kB * T) # needs kb\n",
    "    steps = int(length*1000/dt)\n",
    "    indSteps = int(length*1000/(dt*skipSteps))\n",
    "\n",
    "    # load external files for topo and PES\n",
    "    pdb = app.PDBFile(pdbPath)\n",
    "    topo = pdb.topology\n",
    "\n",
    "    # identify atoms in topology\n",
    "    particles = []\n",
    "    # future update maybe: collect residues to identify number of atoms/chain\n",
    "    # residues = []\n",
    "    for atom in topo.atoms():\n",
    "        particles.append(atom)\n",
    "        # residues.append(atom.residue)\n",
    "\n",
    "    # add bonds between the individual rings\n",
    "    c1 = particles[0:srSize]\n",
    "    c2 = particles[srSize:]\n",
    "    numParticles = len(particles)\n",
    "    # hy1 = particles[20:40]\n",
    "    # hy2 = particles[40:60]\n",
    "\n",
    "    # create arrays to store xyz coords in\n",
    "    # format is timestep:xyz:particle#\n",
    "    traj = np.zeros((indSteps+1, 3, numParticles))\n",
    "\n",
    "    for i, C in enumerate(c1):\n",
    "        topo.addBond(C, c1[i-1])\n",
    "        # topo.addBond(C, hy1[i])\n",
    "        # topo.addBond(C, hy2[i])\n",
    "    \n",
    "    for i, C in enumerate(c2):\n",
    "        topo.addBond(C, c2[i-1])\n",
    "        # topo.addBond(C, hy1[i])\n",
    "        # topo.addBond(C, hy2[i])\n",
    "\n",
    "    forcefield = app.ForceField(forcefieldPath)\n",
    "    unmatched_residues = forcefield.getUnmatchedResidues(topo)\n",
    "    print(\"unmatched residues\\n\", unmatched_residues)\n",
    "    nonbonded = app.NoCutoff\n",
    "\n",
    "    cutoff = 2**(1/6)*unit.nanometer\n",
    "\n",
    "    system = forcefield.createSystem(topo, nonbondedCutoff = cutoff,\n",
    "                                    constraints = None)\n",
    "    system.setDefaultPeriodicBoxVectors((200, 0, 0), \n",
    "                                        (0, 200, 0),\n",
    "                                        (0, 0, 200))\n",
    "\n",
    "    integrator = mm.LangevinIntegrator(T*unit.kelvin, gamma, \n",
    "                                       dt*unit.femtoseconds)\n",
    "\n",
    "    platform = mm.Platform.getPlatformByName('CUDA')\n",
    "    simulation = app.Simulation(topo, system, integrator, platform)\n",
    "    simulation.context.setPositions(pdb.positions)\n",
    "    simulation.context.computeVirtualSites()\n",
    "    simulation.context.setVelocitiesToTemperature(T*unit.kelvin)\n",
    "\n",
    "    # equilibration step\n",
    "    # simulation.step(1000)\n",
    "\n",
    "    # save initial steps\n",
    "    current = simulation.context.getState(getPositions = True)\n",
    "    positions = np.array(current.getPositions()/unit.nanometer)\n",
    "    traj[0, :, :] = positions.transpose()\n",
    "\n",
    "    for step in range(indSteps):\n",
    "        simulation.step(skipSteps)\n",
    "        # extract positions\n",
    "        current = simulation.context.getState(getPositions = True)\n",
    "        positions = np.array(current.getPositions()/unit.nanometer)\n",
    "        traj[step+1, :, :] = positions.transpose()\n",
    "\n",
    "    # save the trajectory as an xyz file\n",
    "    traj_r = traj.reshape(traj.shape[0], -1)\n",
    "    np.savetxt(\"{}fs_{}ps_{}K_{}ss.xyz\".format(dt, length, T, skipSteps), traj_r)\n"
   ]
  },
  {
   "cell_type": "markdown",
   "id": "c2857678",
   "metadata": {},
   "source": [
    "## Suggestions \n",
    "\n",
    "1. Change temperature to inverse of KB\n",
    "2. Add units back\n",
    "3. Remove virtual sites? \n",
    "4. Does it work with just a small ring? \n",
    "5. Look at positions at step zeros\n",
    "\n",
    "\n",
    "\n"
   ]
  },
  {
   "cell_type": "code",
   "execution_count": 33,
   "id": "b3c27a61",
   "metadata": {},
   "outputs": [
    {
     "name": "stdout",
     "output_type": "stream",
     "text": [
      "Now Running: dt = 0.1fs; length = 37ps; T = 1K; 3700 steps skipped\n",
      "unmatched residues\n",
      " []\n"
     ]
    }
   ],
   "source": [
    "runSim(T = 1, gamma = 1, length = 37, dt = 0.1, skipSteps = 3700, \n",
    "           f_pdb = \"scaled_rings\", f_ff = \"unitary_ff\", srSize = 10)\n",
    "\n"
   ]
  },
  {
   "cell_type": "code",
   "execution_count": 11,
   "id": "268ccd6d",
   "metadata": {},
   "outputs": [
    {
     "name": "stderr",
     "output_type": "stream",
     "text": [
      "C:\\Users\\SHEN\\anaconda3\\python.exe: Error while finding module specification for 'openmm.testInstallation' (ModuleNotFoundError: No module named 'openmm')\n"
     ]
    }
   ],
   "source": [
    "!python -m openmm.testInstallation"
   ]
  },
  {
   "cell_type": "code",
   "execution_count": 34,
   "id": "dd98e73c",
   "metadata": {},
   "outputs": [
    {
     "name": "stdout",
     "output_type": "stream",
     "text": [
      "totSteps 100\n",
      "(101, 3, 210)\n"
     ]
    }
   ],
   "source": [
    "a = reload(T = 1, gamma = 1, length = 37, dt = 0.1, skipSteps = 3700, \n",
    "           f_pdb = \"scaled_rings\", f_ff = \"unitary_ff\", srSize = 10)"
   ]
  },
  {
   "cell_type": "code",
   "execution_count": 12,
   "id": "85af6932",
   "metadata": {},
   "outputs": [],
   "source": [
    "dis = calculate_angular_displacement(a)"
   ]
  },
  {
   "cell_type": "code",
   "execution_count": 13,
   "id": "98672686",
   "metadata": {},
   "outputs": [
    {
     "data": {
      "text/plain": [
       "[<matplotlib.lines.Line2D at 0x7ff5388d7df0>]"
      ]
     },
     "execution_count": 13,
     "metadata": {},
     "output_type": "execute_result"
    },
    {
     "data": {
      "image/png": "[encoded data removed]",
      "text/plain": [
       "<Figure size 640x480 with 1 Axes>"
      ]
     },
     "metadata": {},
     "output_type": "display_data"
    }
   ],
   "source": [
    "plt.plot(np.arange(10001),dis)"
   ]
  },
  {
   "cell_type": "code",
   "execution_count": 27,
   "id": "13973408",
   "metadata": {},
   "outputs": [],
   "source": [
    "def calculate_mean_square_displacement(initial_closest_monomers_to_each_bead,current_closest_monomers_to_each_bead,mean_square_distance_particles_large):\n",
    "    #Calculating the mean square displacement\n",
    "    average_square_change_of_index = np.mean(\n",
    "        np.square(\n",
    "            current_closest_monomers_to_each_bead - initial_closest_monomers_to_each_bead\n",
    "        )\n",
    "    )\n",
    "    MSD = mean_square_distance_particles_large*average_square_change_of_index\n",
    "    return MSD\n",
    "\n",
    "def calculate_MSD(position_time_tensor,small_ring_carbon_indices,large_ring_carbon_indices):\n",
    "    \n",
    "    #Extract the small ring positions\n",
    "    p_small = position_time_tensor[:,:,small_ring_carbon_indices[0]:small_ring_carbon_indices[1]]\n",
    "        \n",
    "    #Extract the large ring positions\n",
    "\n",
    "    p_large = position_time_tensor[:,:,large_ring_carbon_indices[0]:large_ring_carbon_indices[1]]\n",
    "    \n",
    "    #Find the closest monomer to each bead for the initial position, transposing just to give the matrix the right shape \n",
    "    initial_closest_monomers_to_each_bead = find_closest_monomer(\n",
    "        p_small[0,:,:].T,\n",
    "        p_large[0,:,:].T\n",
    "    )\n",
    "    \n",
    "    nt = np.shape(position_time_tensor)[0]\n",
    "    mean_square_displacements = np.zeros(nt)\n",
    "    \n",
    "    #Calculating the MSD at each position, starting at 1\n",
    "    for i in range(1,nt):\n",
    "        #Finding the array of closest monomers of each bead of the large ring to the small ring\n",
    "        #This returns an array of monomer indices that is shape n_small x 1 \n",
    "        current_closest_monomers_to_each_bead = find_closest_monomer(\n",
    "            p_small[i,:,:].T,\n",
    "            p_large[i,:,:].T\n",
    "        ) \n",
    "        \n",
    "        #Calculating the mean square particle distance for particles in the large ring\n",
    "        #Can be replaced by r0 once this is standardized to speed calculation\n",
    "        #mean_square_particle_distances_large_ring = calculate_mean_square_particle_distance(\n",
    "        #    p_large[i,:,:].T\n",
    "        #)\n",
    "        mean_square_particle_distances_large_ring = 1#since reduced units and sigma = 1\n",
    "        \n",
    "        #Given the initial position, current position and particle distance, find displacement\n",
    "        mean_square_displacement = calculate_mean_square_displacement(\n",
    "            initial_closest_monomers_to_each_bead,\n",
    "            current_closest_monomers_to_each_bead,\n",
    "            mean_square_particle_distances_large_ring\n",
    "        )\n",
    "        mean_square_displacements[i]=mean_square_displacement\n",
    "    return mean_square_displacements"
   ]
  },
  {
   "cell_type": "code",
   "execution_count": 36,
   "id": "8c42396a",
   "metadata": {},
   "outputs": [],
   "source": [
    "mean_square_displacements = calculate_MSD(a,(0,10),(10,210))"
   ]
  },
  {
   "cell_type": "code",
   "execution_count": 29,
   "id": "b790b9ea",
   "metadata": {},
   "outputs": [],
   "source": [
    "def autocorrelation(obs,dt_0,n_supplied=False):\n",
    "    mean_obs = np.mean(obs)\n",
    "    std_obs = np.std(obs)\n",
    "    if not n_supplied:\n",
    "        n = len(obs)\n",
    "    else:\n",
    "        n = n_supplied\n",
    "    C_obs = np.zeros(n)\n",
    "    dts = np.zeros(n)    \n",
    "    for i in range(0,n):\n",
    "        dts[i] = dt_0*i\n",
    "        C_obs_i_j = 0\n",
    "        for j in range(0,n-i):\n",
    "            C_obs_i_j += (obs[j] - mean_obs) *(obs[j+i] - mean_obs)\n",
    "        C_obs[i] = (1/(std_obs**2))*(1/(n - i ))*C_obs_i_j\n",
    "    return C_obs,dts"
   ]
  },
  {
   "cell_type": "code",
   "execution_count": 26,
   "id": "812d34ac",
   "metadata": {},
   "outputs": [],
   "source": [
    "C_MSD,dts = autocorrelation(mean_square_displacements,1)\n"
   ]
  },
  {
   "cell_type": "code",
   "execution_count": 32,
   "id": "045c7272",
   "metadata": {},
   "outputs": [
    {
     "data": {
      "text/plain": [
       "Text(0, 0.5, 'MSD Autocorrelation')"
      ]
     },
     "execution_count": 32,
     "metadata": {},
     "output_type": "execute_result"
    },
    {
     "data": {
      "image/png": "[encoded data removed]",
      "text/plain": [
       "<Figure size 640x480 with 1 Axes>"
      ]
     },
     "metadata": {},
     "output_type": "display_data"
    }
   ],
   "source": [
    "skip_step = 3700\n",
    "\n",
    "plt.figure()\n",
    "plt.plot(dts,C_MSD)\n",
    "plt.axhline(0,color=\"k\",linestyle ='dotted')\n",
    "plt.axvline(skip_step,color=\"k\",linestyle ='dotted')\n",
    "plt.title(f\"Autocorrelation of MSD, optimal skip step: {skip_step}\")\n",
    "plt.xlabel(\"Time Step Size\")\n",
    "plt.ylabel(\"MSD Autocorrelation\")"
   ]
  },
  {
   "cell_type": "code",
   "execution_count": 37,
   "id": "e6753ee5",
   "metadata": {},
   "outputs": [
    {
     "data": {
      "text/plain": [
       "Text(0, 0.5, 'MSD')"
      ]
     },
     "execution_count": 37,
     "metadata": {},
     "output_type": "execute_result"
    },
    {
     "data": {
      "image/png": "[encoded data removed]",
      "text/plain": [
       "<Figure size 640x480 with 1 Axes>"
      ]
     },
     "metadata": {},
     "output_type": "display_data"
    }
   ],
   "source": [
    "plt.figure()\n",
    "plt.loglog(np.arange(101),mean_square_displacements)\n",
    "plt.title(\"Mean Square Displacement of Small ring around Large Ring\")\n",
    "plt.xlabel(\"Independent time step\")\n",
    "plt.ylabel(\"MSD\")"
   ]
  }
 ],
 "metadata": {
  "kernelspec": {
   "display_name": "syde",
   "language": "python",
   "name": "syde"
  },
  "language_info": {
   "codemirror_mode": {
    "name": "ipython",
    "version": 3
   },
   "file_extension": ".py",
   "mimetype": "text/x-python",
   "name": "python",
   "nbconvert_exporter": "python",
   "pygments_lexer": "ipython3",
   "version": "3.9.13"
  }
 },
 "nbformat": 4,
 "nbformat_minor": 5
}
